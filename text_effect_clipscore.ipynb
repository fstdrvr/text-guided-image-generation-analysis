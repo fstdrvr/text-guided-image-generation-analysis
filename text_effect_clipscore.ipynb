{
  "nbformat": 4,
  "nbformat_minor": 0,
  "metadata": {
    "colab": {
      "provenance": []
    },
    "kernelspec": {
      "name": "python3",
      "display_name": "Python 3"
    },
    "language_info": {
      "name": "python"
    }
  },
  "cells": [
    {
      "cell_type": "code",
      "execution_count": null,
      "metadata": {
        "colab": {
          "base_uri": "https://localhost:8080/"
        },
        "id": "W1I-_UixqkHt",
        "outputId": "a0465857-72fb-453f-b1c6-7f0552721752"
      },
      "outputs": [
        {
          "output_type": "stream",
          "name": "stdout",
          "text": [
            "Looking in indexes: https://pypi.org/simple, https://us-python.pkg.dev/colab-wheels/public/simple/\n",
            "Requirement already satisfied: torch in /usr/local/lib/python3.9/dist-packages (2.0.0+cu118)\n",
            "Requirement already satisfied: torchvision in /usr/local/lib/python3.9/dist-packages (0.15.1+cu118)\n",
            "Requirement already satisfied: sympy in /usr/local/lib/python3.9/dist-packages (from torch) (1.11.1)\n",
            "Requirement already satisfied: filelock in /usr/local/lib/python3.9/dist-packages (from torch) (3.11.0)\n",
            "Requirement already satisfied: typing-extensions in /usr/local/lib/python3.9/dist-packages (from torch) (4.5.0)\n",
            "Requirement already satisfied: triton==2.0.0 in /usr/local/lib/python3.9/dist-packages (from torch) (2.0.0)\n",
            "Requirement already satisfied: jinja2 in /usr/local/lib/python3.9/dist-packages (from torch) (3.1.2)\n",
            "Requirement already satisfied: networkx in /usr/local/lib/python3.9/dist-packages (from torch) (3.1)\n",
            "Requirement already satisfied: lit in /usr/local/lib/python3.9/dist-packages (from triton==2.0.0->torch) (16.0.1)\n",
            "Requirement already satisfied: cmake in /usr/local/lib/python3.9/dist-packages (from triton==2.0.0->torch) (3.25.2)\n",
            "Requirement already satisfied: requests in /usr/local/lib/python3.9/dist-packages (from torchvision) (2.27.1)\n",
            "Requirement already satisfied: pillow!=8.3.*,>=5.3.0 in /usr/local/lib/python3.9/dist-packages (from torchvision) (8.4.0)\n",
            "Requirement already satisfied: numpy in /usr/local/lib/python3.9/dist-packages (from torchvision) (1.22.4)\n",
            "Requirement already satisfied: MarkupSafe>=2.0 in /usr/local/lib/python3.9/dist-packages (from jinja2->torch) (2.1.2)\n",
            "Requirement already satisfied: urllib3<1.27,>=1.21.1 in /usr/local/lib/python3.9/dist-packages (from requests->torchvision) (1.26.15)\n",
            "Requirement already satisfied: charset-normalizer~=2.0.0 in /usr/local/lib/python3.9/dist-packages (from requests->torchvision) (2.0.12)\n",
            "Requirement already satisfied: certifi>=2017.4.17 in /usr/local/lib/python3.9/dist-packages (from requests->torchvision) (2022.12.7)\n",
            "Requirement already satisfied: idna<4,>=2.5 in /usr/local/lib/python3.9/dist-packages (from requests->torchvision) (3.4)\n",
            "Requirement already satisfied: mpmath>=0.19 in /usr/local/lib/python3.9/dist-packages (from sympy->torch) (1.3.0)\n"
          ]
        }
      ],
      "source": [
        "!pip install torch torchvision"
      ]
    },
    {
      "cell_type": "code",
      "source": [
        "!pip install torchmetrics[multimodal]"
      ],
      "metadata": {
        "colab": {
          "base_uri": "https://localhost:8080/"
        },
        "id": "YYqj0GD3r2yV",
        "outputId": "549252a2-c061-4fe8-c683-bf2f1322409b"
      },
      "execution_count": null,
      "outputs": [
        {
          "output_type": "stream",
          "name": "stdout",
          "text": [
            "Looking in indexes: https://pypi.org/simple, https://us-python.pkg.dev/colab-wheels/public/simple/\n",
            "Collecting torchmetrics[multimodal]\n",
            "  Downloading torchmetrics-0.11.4-py3-none-any.whl (519 kB)\n",
            "\u001b[2K     \u001b[90m━━━━━━━━━━━━━━━━━━━━━━━━━━━━━━━━━━━━━━━\u001b[0m \u001b[32m519.2/519.2 kB\u001b[0m \u001b[31m9.3 MB/s\u001b[0m eta \u001b[36m0:00:00\u001b[0m\n",
            "\u001b[?25hRequirement already satisfied: torch>=1.8.1 in /usr/local/lib/python3.9/dist-packages (from torchmetrics[multimodal]) (2.0.0+cu118)\n",
            "Requirement already satisfied: numpy>=1.17.2 in /usr/local/lib/python3.9/dist-packages (from torchmetrics[multimodal]) (1.22.4)\n",
            "Requirement already satisfied: packaging in /usr/local/lib/python3.9/dist-packages (from torchmetrics[multimodal]) (23.0)\n",
            "Collecting transformers>=4.10.0\n",
            "  Downloading transformers-4.28.1-py3-none-any.whl (7.0 MB)\n",
            "\u001b[2K     \u001b[90m━━━━━━━━━━━━━━━━━━━━━━━━━━━━━━━━━━━━━━━━\u001b[0m \u001b[32m7.0/7.0 MB\u001b[0m \u001b[31m26.0 MB/s\u001b[0m eta \u001b[36m0:00:00\u001b[0m\n",
            "\u001b[?25hRequirement already satisfied: typing-extensions in /usr/local/lib/python3.9/dist-packages (from torch>=1.8.1->torchmetrics[multimodal]) (4.5.0)\n",
            "Requirement already satisfied: filelock in /usr/local/lib/python3.9/dist-packages (from torch>=1.8.1->torchmetrics[multimodal]) (3.11.0)\n",
            "Requirement already satisfied: networkx in /usr/local/lib/python3.9/dist-packages (from torch>=1.8.1->torchmetrics[multimodal]) (3.1)\n",
            "Requirement already satisfied: triton==2.0.0 in /usr/local/lib/python3.9/dist-packages (from torch>=1.8.1->torchmetrics[multimodal]) (2.0.0)\n",
            "Requirement already satisfied: jinja2 in /usr/local/lib/python3.9/dist-packages (from torch>=1.8.1->torchmetrics[multimodal]) (3.1.2)\n",
            "Requirement already satisfied: sympy in /usr/local/lib/python3.9/dist-packages (from torch>=1.8.1->torchmetrics[multimodal]) (1.11.1)\n",
            "Requirement already satisfied: cmake in /usr/local/lib/python3.9/dist-packages (from triton==2.0.0->torch>=1.8.1->torchmetrics[multimodal]) (3.25.2)\n",
            "Requirement already satisfied: lit in /usr/local/lib/python3.9/dist-packages (from triton==2.0.0->torch>=1.8.1->torchmetrics[multimodal]) (16.0.1)\n",
            "Collecting tokenizers!=0.11.3,<0.14,>=0.11.1\n",
            "  Downloading tokenizers-0.13.3-cp39-cp39-manylinux_2_17_x86_64.manylinux2014_x86_64.whl (7.8 MB)\n",
            "\u001b[2K     \u001b[90m━━━━━━━━━━━━━━━━━━━━━━━━━━━━━━━━━━━━━━━━\u001b[0m \u001b[32m7.8/7.8 MB\u001b[0m \u001b[31m28.2 MB/s\u001b[0m eta \u001b[36m0:00:00\u001b[0m\n",
            "\u001b[?25hRequirement already satisfied: tqdm>=4.27 in /usr/local/lib/python3.9/dist-packages (from transformers>=4.10.0->torchmetrics[multimodal]) (4.65.0)\n",
            "Requirement already satisfied: regex!=2019.12.17 in /usr/local/lib/python3.9/dist-packages (from transformers>=4.10.0->torchmetrics[multimodal]) (2022.10.31)\n",
            "Requirement already satisfied: requests in /usr/local/lib/python3.9/dist-packages (from transformers>=4.10.0->torchmetrics[multimodal]) (2.27.1)\n",
            "Collecting huggingface-hub<1.0,>=0.11.0\n",
            "  Downloading huggingface_hub-0.13.4-py3-none-any.whl (200 kB)\n",
            "\u001b[2K     \u001b[90m━━━━━━━━━━━━━━━━━━━━━━━━━━━━━━━━━━━━━━━\u001b[0m \u001b[32m200.1/200.1 kB\u001b[0m \u001b[31m5.3 MB/s\u001b[0m eta \u001b[36m0:00:00\u001b[0m\n",
            "\u001b[?25hRequirement already satisfied: pyyaml>=5.1 in /usr/local/lib/python3.9/dist-packages (from transformers>=4.10.0->torchmetrics[multimodal]) (6.0)\n",
            "Requirement already satisfied: MarkupSafe>=2.0 in /usr/local/lib/python3.9/dist-packages (from jinja2->torch>=1.8.1->torchmetrics[multimodal]) (2.1.2)\n",
            "Requirement already satisfied: charset-normalizer~=2.0.0 in /usr/local/lib/python3.9/dist-packages (from requests->transformers>=4.10.0->torchmetrics[multimodal]) (2.0.12)\n",
            "Requirement already satisfied: certifi>=2017.4.17 in /usr/local/lib/python3.9/dist-packages (from requests->transformers>=4.10.0->torchmetrics[multimodal]) (2022.12.7)\n",
            "Requirement already satisfied: idna<4,>=2.5 in /usr/local/lib/python3.9/dist-packages (from requests->transformers>=4.10.0->torchmetrics[multimodal]) (3.4)\n",
            "Requirement already satisfied: urllib3<1.27,>=1.21.1 in /usr/local/lib/python3.9/dist-packages (from requests->transformers>=4.10.0->torchmetrics[multimodal]) (1.26.15)\n",
            "Requirement already satisfied: mpmath>=0.19 in /usr/local/lib/python3.9/dist-packages (from sympy->torch>=1.8.1->torchmetrics[multimodal]) (1.3.0)\n",
            "Installing collected packages: tokenizers, huggingface-hub, transformers, torchmetrics\n",
            "Successfully installed huggingface-hub-0.13.4 tokenizers-0.13.3 torchmetrics-0.11.4 transformers-4.28.1\n"
          ]
        }
      ]
    },
    {
      "cell_type": "code",
      "source": [
        "!pip install transformers>=4.0"
      ],
      "metadata": {
        "id": "qCBU0AG-s_z5"
      },
      "execution_count": null,
      "outputs": []
    },
    {
      "cell_type": "code",
      "source": [
        "objectLabel = [\"tiger\", \"window\", \"cat\", \"book\", \"squirrel\", \"mouse\", \"airline\", \"plane\", \"cookies\", \"pool\", ]"
      ],
      "metadata": {
        "id": "sP7G1cliAmDz"
      },
      "execution_count": null,
      "outputs": []
    },
    {
      "cell_type": "code",
      "source": [
        "paint_promot = []\n",
        "fp = open(\"/content/sample_data/promots_test.txt\", \"r\")\n",
        "for line in fp.readlines():\n",
        "  blocks = line.split(\",\")\n",
        "  if len(blocks) < 3:\n",
        "    break\n",
        "  tmp = []\n",
        "  for b in blocks:\n",
        "    b = b.strip()\n",
        "    tmp.append(b)\n",
        "  paint_promot.append(tmp)"
      ],
      "metadata": {
        "id": "0PxfxcXkDrKj"
      },
      "execution_count": null,
      "outputs": []
    },
    {
      "cell_type": "code",
      "source": [
        "len(paint_promot)"
      ],
      "metadata": {
        "colab": {
          "base_uri": "https://localhost:8080/"
        },
        "id": "fsD1dhk6DrVQ",
        "outputId": "07f6450d-0b60-4dad-ffc3-4b7ad60a8267"
      },
      "execution_count": null,
      "outputs": [
        {
          "output_type": "execute_result",
          "data": {
            "text/plain": [
              "10"
            ]
          },
          "metadata": {},
          "execution_count": 9
        }
      ]
    },
    {
      "cell_type": "code",
      "source": [
        "from torchvision import transforms\n",
        "from PIL import Image\n",
        "import torch\n",
        "from torchmetrics.functional.multimodal.clip_score import clip_score\n",
        "ind = []\n",
        "for i in range(len(objectLabel)):\n",
        "  objL = objectLabel[i]\n",
        "  max = 0\n",
        "  maxC = -1\n",
        "  ind.append(0)\n",
        "  for j in range(1,4):\n",
        "    img = Image.open('/content/sample_data/{}{}.jpg'.format(objL, j))\n",
        "    convert_tensor = transforms.ToTensor()\n",
        "    img_tensor = convert_tensor(img)\n",
        "    caption = paint_promot[i][j - 1]\n",
        "    score = clip_score(img_tensor, caption, \"openai/clip-vit-base-patch16\")\n",
        "    print('{}{}'.format(objL, j) + \":      \" )\n",
        "    print(caption)\n",
        "    clip_score_num = score.detach().item()\n",
        "    if(clip_score_num > max):\n",
        "      max = clip_score_num\n",
        "      ind[i] = j\n",
        "    print(clip_score_num)"
      ],
      "metadata": {
        "colab": {
          "base_uri": "https://localhost:8080/"
        },
        "id": "kkJ0ok6wAvRL",
        "outputId": "ad60a323-058f-43bf-ffb8-da38a3f6a157"
      },
      "execution_count": null,
      "outputs": [
        {
          "output_type": "stream",
          "name": "stdout",
          "text": [
            "tiger1:      \n",
            "tiger\n",
            "23.792186737060547\n",
            "tiger2:      \n",
            "a giant Yellow tiger\n",
            "21.941308975219727\n",
            "tiger3:      \n",
            "an tiger walking through a forested area\n",
            "22.777023315429688\n",
            "window1:      \n",
            "A window\n",
            "24.435026168823242\n",
            "window2:      \n",
            "a huge mirror\n",
            "21.274063110351562\n",
            "window3:      \n",
            "a window that is next to an eagle statue\n",
            "21.06670379638672\n",
            "cat1:      \n",
            "A Cat\n",
            "25.283517837524414\n",
            "cat2:      \n",
            "a large cat\n",
            "24.086402893066406\n",
            "cat3:      \n",
            "a large cat sitting and waiting for a treat\n",
            "21.36065673828125\n",
            "book1:      \n",
            "book\n",
            "23.526920318603516\n",
            "book2:      \n",
            "a stack of books\n",
            "22.376680374145508\n",
            "book3:      \n",
            "a stack of books sitting on top of a table\n",
            "21.58562660217285\n",
            "squirrel1:      \n",
            "squirrel\n",
            "23.024137496948242\n",
            "squirrel2:      \n",
            "a small squirrel\n",
            "23.10273551940918\n",
            "squirrel3:      \n",
            "a squirrel sitting in an evergreen tree\n",
            "22.116670608520508\n",
            "mouse1:      \n",
            "A mouse\n",
            "23.84425163269043\n",
            "mouse2:      \n",
            "a mickey mouse\n",
            "23.97734260559082\n",
            "mouse3:      \n",
            "a black and white mickey mouse jumping a skate board in the air\n",
            "26.05345916748047\n",
            "airline1:      \n",
            "A jet\n",
            "24.8226318359375\n",
            "airline2:      \n",
            "A fighter jet\n",
            "24.40376091003418\n",
            "airline3:      \n",
            "a fighter jet parked in a spot at the airport\n",
            "20.488679885864258\n",
            "plane1:      \n",
            "A house\n",
            "24.4798641204834\n",
            "plane2:      \n",
            "A yellow color house\n",
            "20.36284637451172\n",
            "plane3:      \n",
            "A house that is sitting on a runway\n",
            "20.173938751220703\n",
            "cookies1:      \n",
            "Cookies\n",
            "22.408578872680664\n",
            "cookies2:      \n",
            "a couple of cookies\n",
            "22.473241806030273\n",
            "cookies3:      \n",
            "a couple of cookies sitting on a blue plate on a computer desk\n",
            "21.494665145874023\n",
            "pool1:      \n",
            "A pool\n",
            "22.88531494140625\n",
            "pool2:      \n",
            "a pool is on the floor\n",
            "21.812170028686523\n",
            "pool3:      \n",
            "a pool is on the floor on wooden slats\n",
            "19.425716400146484\n"
          ]
        }
      ]
    },
    {
      "cell_type": "code",
      "source": [
        "ind"
      ],
      "metadata": {
        "colab": {
          "base_uri": "https://localhost:8080/"
        },
        "id": "GhxCvF0sMSkn",
        "outputId": "2c073b77-11bc-4c8e-b49b-5b53431e4c5d"
      },
      "execution_count": null,
      "outputs": [
        {
          "output_type": "execute_result",
          "data": {
            "text/plain": [
              "[1, 1, 1, 1, 2, 3, 1, 1, 2, 1]"
            ]
          },
          "metadata": {},
          "execution_count": 21
        }
      ]
    },
    {
      "cell_type": "code",
      "source": [
        "human_ind = [1, 1, 1, 2, 1, 3, 3, 1, 2, 3]"
      ],
      "metadata": {
        "id": "Q1ujer0jN0Ib"
      },
      "execution_count": null,
      "outputs": []
    },
    {
      "cell_type": "code",
      "source": [
        "diff = 0\n",
        "for i in range(10):\n",
        "  if(ind[i] != human_ind[i]):\n",
        "    diff += 1\n",
        "diff"
      ],
      "metadata": {
        "colab": {
          "base_uri": "https://localhost:8080/"
        },
        "id": "nk4qQ0VfOZ9t",
        "outputId": "f5739e6d-a0e0-47f4-af05-b554e9f8df6c"
      },
      "execution_count": null,
      "outputs": [
        {
          "output_type": "execute_result",
          "data": {
            "text/plain": [
              "4"
            ]
          },
          "metadata": {},
          "execution_count": 25
        }
      ]
    },
    {
      "cell_type": "code",
      "source": [
        "# get input image\n",
        "from torchvision import transforms\n",
        "from PIL import Image\n",
        "\n",
        "img = Image.open(\"squirrel.png\")\n",
        "convert_tensor = transforms.ToTensor()\n",
        "img_tensor = convert_tensor(img)\n",
        "print(img_tensor.shape)"
      ],
      "metadata": {
        "id": "HI-elzIirXqA"
      },
      "execution_count": null,
      "outputs": []
    },
    {
      "cell_type": "code",
      "source": [
        "import torch\n",
        "from torchmetrics.functional.multimodal.clip_score import clip_score\n",
        "score = clip_score(img_tensor, \"squirrel\", \"openai/clip-vit-base-patch16\")\n",
        "print(score.detach())"
      ],
      "metadata": {
        "id": "MZ3QaG3Pq5fF"
      },
      "execution_count": null,
      "outputs": []
    },
    {
      "cell_type": "code",
      "source": [],
      "metadata": {
        "id": "x_4TUUPGrqKj"
      },
      "execution_count": null,
      "outputs": []
    }
  ]
}